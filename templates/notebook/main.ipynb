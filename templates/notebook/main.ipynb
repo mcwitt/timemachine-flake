{
 "cells": [
  {
   "cell_type": "code",
   "execution_count": 1,
   "id": "e41bccde-100f-40b1-b748-eafb91231422",
   "metadata": {},
   "outputs": [],
   "source": [
    "%config InlineBackend.figure_format = \"retina\""
   ]
  },
  {
   "cell_type": "code",
   "execution_count": 2,
   "id": "01a4688e-993d-46aa-8897-810cfac92d64",
   "metadata": {},
   "outputs": [],
   "source": [
    "from rdkit.Chem.Draw import IPythonConsole\n",
    "import timemachine"
   ]
  },
  {
   "cell_type": "code",
   "execution_count": 3,
   "id": "d3ff239d-3701-4f28-8304-3f0b8fd906b6",
   "metadata": {},
   "outputs": [],
   "source": [
    "# IPythonConsole.drawOptions.addAtomIndices = True\n",
    "# IPythonConsole.molSize = (300, 300)\n",
    "# IPythonConsole.ipython_useSVG = True\n",
    "IPythonConsole.ipython_3d = True  # requires py3Dmol"
   ]
  },
  {
   "cell_type": "code",
   "execution_count": 4,
   "id": "46fd2ee4-118b-44ba-b55d-24e4683cc76f",
   "metadata": {},
   "outputs": [
    {
     "data": {
      "text/plain": [
       "'8240243c77891bef73021dde90e9d2038d1e1a17'"
      ]
     },
     "execution_count": 4,
     "metadata": {},
     "output_type": "execute_result"
    }
   ],
   "source": [
    "timemachine.__rev__"
   ]
  }
 ],
 "metadata": {
  "kernelspec": {
   "display_name": "Python 3 (ipykernel)",
   "language": "python",
   "name": "python3"
  },
  "language_info": {
   "codemirror_mode": {
    "name": "ipython",
    "version": 3
   },
   "file_extension": ".py",
   "mimetype": "text/x-python",
   "name": "python",
   "nbconvert_exporter": "python",
   "pygments_lexer": "ipython3",
   "version": "3.11.9"
  },
  "widgets": {
   "application/vnd.jupyter.widget-state+json": {
    "state": {},
    "version_major": 2,
    "version_minor": 0
   }
  }
 },
 "nbformat": 4,
 "nbformat_minor": 5
}
