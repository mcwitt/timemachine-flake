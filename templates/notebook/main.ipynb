{
 "cells": [
  {
   "cell_type": "code",
   "execution_count": 1,
   "id": "e41bccde-100f-40b1-b748-eafb91231422",
   "metadata": {},
   "outputs": [],
   "source": [
    "%config InlineBackend.figure_format = \"retina\""
   ]
  },
  {
   "cell_type": "code",
   "execution_count": 2,
   "id": "f1cc9c93-07ef-4329-b669-89081a7e884f",
   "metadata": {},
   "outputs": [
    {
     "data": {
      "text/html": [
       "\n",
       "                <script type=\"application/javascript\" id=\"jupyter_black\">\n",
       "                (function() {\n",
       "                    if (window.IPython === undefined) {\n",
       "                        return\n",
       "                    }\n",
       "                    var msg = \"WARNING: it looks like you might have loaded \" +\n",
       "                        \"jupyter_black in a non-lab notebook with \" +\n",
       "                        \"`is_lab=True`. Please double check, and if \" +\n",
       "                        \"loading with `%load_ext` please review the README!\"\n",
       "                    console.log(msg)\n",
       "                    alert(msg)\n",
       "                })()\n",
       "                </script>\n",
       "                "
      ],
      "text/plain": [
       "<IPython.core.display.HTML object>"
      ]
     },
     "metadata": {},
     "output_type": "display_data"
    }
   ],
   "source": [
    "import jupyter_black\n",
    "jupyter_black.load()"
   ]
  },
  {
   "cell_type": "code",
   "execution_count": 3,
   "id": "01a4688e-993d-46aa-8897-810cfac92d64",
   "metadata": {},
   "outputs": [],
   "source": [
    "import functools\n",
    "\n",
    "import jax\n",
    "import matplotlib.pyplot as plt\n",
    "import py3Dmol\n",
    "from rdkit import Chem\n",
    "from rdkit.Chem.Draw import IPythonConsole\n",
    "import timemachine\n",
    "import timemachine.datasets\n",
    "from tqdm.notebook import tqdm"
   ]
  },
  {
   "cell_type": "code",
   "execution_count": 4,
   "id": "a480630e-d858-4bc6-9f69-b40b39a03bf0",
   "metadata": {},
   "outputs": [],
   "source": [
    "jax.config.update(\"jax_enable_x64\", True)"
   ]
  },
  {
   "cell_type": "code",
   "execution_count": 5,
   "id": "d3ff239d-3701-4f28-8304-3f0b8fd906b6",
   "metadata": {},
   "outputs": [],
   "source": [
    "# IPythonConsole.drawOptions.addAtomIndices = True\n",
    "# IPythonConsole.molSize = (300, 300)\n",
    "# IPythonConsole.ipython_useSVG = True\n",
    "IPythonConsole.ipython_3d = True  # requires py3Dmol"
   ]
  },
  {
   "cell_type": "code",
   "execution_count": 6,
   "id": "46fd2ee4-118b-44ba-b55d-24e4683cc76f",
   "metadata": {},
   "outputs": [
    {
     "data": {
      "text/plain": [
       "'3ab363944b50728869f023fd2c69c1c74122fcf8'"
      ]
     },
     "execution_count": 6,
     "metadata": {},
     "output_type": "execute_result"
    }
   ],
   "source": [
    "timemachine.__version__"
   ]
  },
  {
   "cell_type": "code",
   "execution_count": 7,
   "id": "2b937e3e-cf67-46be-a759-45fabf4fca8f",
   "metadata": {},
   "outputs": [],
   "source": [
    "import py3Dmol"
   ]
  },
  {
   "cell_type": "code",
   "execution_count": 8,
   "id": "9fde80b1-b6ee-4c41-8202-c8d5d6973210",
   "metadata": {},
   "outputs": [
    {
     "name": "stderr",
     "output_type": "stream",
     "text": [
      "[19:26:16] Warning: molecule is tagged as 3D, but all Z coords are zero\n"
     ]
    },
    {
     "data": {
      "application/3dmoljs_load.v0": "<div id=\"3dmolviewer_1662690376543699\"  style=\"position: relative; width: 400px; height: 400px\">\n        <p id=\"3dmolwarning_1662690376543699\" style=\"background-color:#ffcccc;color:black\">You appear to be running in JupyterLab (or JavaScript failed to load for some other reason).  You need to install the 3dmol extension: <br>\n        <tt>jupyter labextension install jupyterlab_3dmol</tt></p>\n        </div>\n<script>\n\nvar loadScriptAsync = function(uri){\n  return new Promise((resolve, reject) => {\n    var tag = document.createElement('script');\n    tag.src = uri;\n    tag.async = true;\n    tag.onload = () => {\n      resolve();\n    };\n  var firstScriptTag = document.getElementsByTagName('script')[0];\n  firstScriptTag.parentNode.insertBefore(tag, firstScriptTag);\n});\n};\n\nif(typeof $3Dmolpromise === 'undefined') {\n$3Dmolpromise = null;\n  $3Dmolpromise = loadScriptAsync('https://cdn.jsdelivr.net/npm/3dmol@latest/build/3Dmol-min.min.js');\n}\n\nvar viewer_1662690376543699 = null;\nvar warn = document.getElementById(\"3dmolwarning_1662690376543699\");\nif(warn) {\n    warn.parentNode.removeChild(warn);\n}\n$3Dmolpromise.then(function() {\nviewer_1662690376543699 = $3Dmol.createViewer($(\"#3dmolviewer_1662690376543699\"),{backgroundColor:\"white\"});\nviewer_1662690376543699.zoomTo();\n\tviewer_1662690376543699.removeAllModels();\n\tviewer_1662690376543699.addModel(\"mobley_1017962\\n     RDKit          3D\\n\\n 23 22  0  0  0  0  0  0  0  0999 V2000\\n   -2.9204    1.1908    0.4741 C   0  0  0  0  0  0  0  0  0  0  0  0\\n   -2.8260   -0.1950   -0.1452 C   0  0  0  0  0  0  0  0  0  0  0  0\\n   -1.5655   -0.9614    0.2609 C   0  0  0  0  0  0  0  0  0  0  0  0\\n   -0.2754   -0.3253   -0.2588 C   0  0  0  0  0  0  0  0  0  0  0  0\\n    0.9389   -1.1819    0.0825 C   0  0  0  0  0  0  0  0  0  0  0  0\\n    2.1990   -0.5566   -0.4563 C   0  0  0  0  0  0  0  0  0  0  0  0\\n    2.7190   -0.8655   -1.5196 O   0  0  0  0  0  0  0  0  0  0  0  0\\n    2.6528    0.4051    0.3940 O   0  0  0  0  0  0  0  0  0  0  0  0\\n    3.8395    1.0610   -0.0541 C   0  0  0  0  0  0  0  0  0  0  0  0\\n   -2.1349    1.8529    0.0983 H   0  0  0  0  0  0  0  0  0  0  0  0\\n   -2.8397    1.1406    1.5645 H   0  0  0  0  0  0  0  0  0  0  0  0\\n   -3.8841    1.6476    0.2266 H   0  0  0  0  0  0  0  0  0  0  0  0\\n   -2.8764   -0.1110   -1.2370 H   0  0  0  0  0  0  0  0  0  0  0  0\\n   -3.7014   -0.7763    0.1684 H   0  0  0  0  0  0  0  0  0  0  0  0\\n   -1.5225   -1.0458    1.3537 H   0  0  0  0  0  0  0  0  0  0  0  0\\n   -1.6449   -1.9828   -0.1318 H   0  0  0  0  0  0  0  0  0  0  0  0\\n   -0.1456    0.6739    0.1725 H   0  0  0  0  0  0  0  0  0  0  0  0\\n   -0.3378   -0.1926   -1.3460 H   0  0  0  0  0  0  0  0  0  0  0  0\\n    1.0422   -1.3198    1.1650 H   0  0  0  0  0  0  0  0  0  0  0  0\\n    0.8463   -2.1838   -0.3526 H   0  0  0  0  0  0  0  0  0  0  0  0\\n    4.6605    0.3439   -0.1522 H   0  0  0  0  0  0  0  0  0  0  0  0\\n    4.1186    1.8060    0.6960 H   0  0  0  0  0  0  0  0  0  0  0  0\\n    3.6578    1.5759   -1.0027 H   0  0  0  0  0  0  0  0  0  0  0  0\\n  1  2  1  0\\n  2  3  1  0\\n  3  4  1  0\\n  4  5  1  0\\n  5  6  1  0\\n  6  7  2  0\\n  6  8  1  0\\n  8  9  1  0\\n  1 10  1  0\\n  1 11  1  0\\n  1 12  1  0\\n  2 13  1  0\\n  2 14  1  0\\n  3 15  1  0\\n  3 16  1  0\\n  4 17  1  0\\n  4 18  1  0\\n  5 19  1  0\\n  5 20  1  0\\n  9 21  1  0\\n  9 22  1  0\\n  9 23  1  0\\nM  END\\n\",\"sdf\");\n\tviewer_1662690376543699.setStyle({\"stick\": {}});\n\tviewer_1662690376543699.setBackgroundColor(\"0xeeeeee\");\n\tviewer_1662690376543699.zoomTo();\nviewer_1662690376543699.render();\n});\n</script>",
      "text/html": [
       "<div id=\"3dmolviewer_1662690376543699\"  style=\"position: relative; width: 400px; height: 400px\">\n",
       "        <p id=\"3dmolwarning_1662690376543699\" style=\"background-color:#ffcccc;color:black\">You appear to be running in JupyterLab (or JavaScript failed to load for some other reason).  You need to install the 3dmol extension: <br>\n",
       "        <tt>jupyter labextension install jupyterlab_3dmol</tt></p>\n",
       "        </div>\n",
       "<script>\n",
       "\n",
       "var loadScriptAsync = function(uri){\n",
       "  return new Promise((resolve, reject) => {\n",
       "    var tag = document.createElement('script');\n",
       "    tag.src = uri;\n",
       "    tag.async = true;\n",
       "    tag.onload = () => {\n",
       "      resolve();\n",
       "    };\n",
       "  var firstScriptTag = document.getElementsByTagName('script')[0];\n",
       "  firstScriptTag.parentNode.insertBefore(tag, firstScriptTag);\n",
       "});\n",
       "};\n",
       "\n",
       "if(typeof $3Dmolpromise === 'undefined') {\n",
       "$3Dmolpromise = null;\n",
       "  $3Dmolpromise = loadScriptAsync('https://cdn.jsdelivr.net/npm/3dmol@latest/build/3Dmol-min.min.js');\n",
       "}\n",
       "\n",
       "var viewer_1662690376543699 = null;\n",
       "var warn = document.getElementById(\"3dmolwarning_1662690376543699\");\n",
       "if(warn) {\n",
       "    warn.parentNode.removeChild(warn);\n",
       "}\n",
       "$3Dmolpromise.then(function() {\n",
       "viewer_1662690376543699 = $3Dmol.createViewer($(\"#3dmolviewer_1662690376543699\"),{backgroundColor:\"white\"});\n",
       "viewer_1662690376543699.zoomTo();\n",
       "\tviewer_1662690376543699.removeAllModels();\n",
       "\tviewer_1662690376543699.addModel(\"mobley_1017962\\n     RDKit          3D\\n\\n 23 22  0  0  0  0  0  0  0  0999 V2000\\n   -2.9204    1.1908    0.4741 C   0  0  0  0  0  0  0  0  0  0  0  0\\n   -2.8260   -0.1950   -0.1452 C   0  0  0  0  0  0  0  0  0  0  0  0\\n   -1.5655   -0.9614    0.2609 C   0  0  0  0  0  0  0  0  0  0  0  0\\n   -0.2754   -0.3253   -0.2588 C   0  0  0  0  0  0  0  0  0  0  0  0\\n    0.9389   -1.1819    0.0825 C   0  0  0  0  0  0  0  0  0  0  0  0\\n    2.1990   -0.5566   -0.4563 C   0  0  0  0  0  0  0  0  0  0  0  0\\n    2.7190   -0.8655   -1.5196 O   0  0  0  0  0  0  0  0  0  0  0  0\\n    2.6528    0.4051    0.3940 O   0  0  0  0  0  0  0  0  0  0  0  0\\n    3.8395    1.0610   -0.0541 C   0  0  0  0  0  0  0  0  0  0  0  0\\n   -2.1349    1.8529    0.0983 H   0  0  0  0  0  0  0  0  0  0  0  0\\n   -2.8397    1.1406    1.5645 H   0  0  0  0  0  0  0  0  0  0  0  0\\n   -3.8841    1.6476    0.2266 H   0  0  0  0  0  0  0  0  0  0  0  0\\n   -2.8764   -0.1110   -1.2370 H   0  0  0  0  0  0  0  0  0  0  0  0\\n   -3.7014   -0.7763    0.1684 H   0  0  0  0  0  0  0  0  0  0  0  0\\n   -1.5225   -1.0458    1.3537 H   0  0  0  0  0  0  0  0  0  0  0  0\\n   -1.6449   -1.9828   -0.1318 H   0  0  0  0  0  0  0  0  0  0  0  0\\n   -0.1456    0.6739    0.1725 H   0  0  0  0  0  0  0  0  0  0  0  0\\n   -0.3378   -0.1926   -1.3460 H   0  0  0  0  0  0  0  0  0  0  0  0\\n    1.0422   -1.3198    1.1650 H   0  0  0  0  0  0  0  0  0  0  0  0\\n    0.8463   -2.1838   -0.3526 H   0  0  0  0  0  0  0  0  0  0  0  0\\n    4.6605    0.3439   -0.1522 H   0  0  0  0  0  0  0  0  0  0  0  0\\n    4.1186    1.8060    0.6960 H   0  0  0  0  0  0  0  0  0  0  0  0\\n    3.6578    1.5759   -1.0027 H   0  0  0  0  0  0  0  0  0  0  0  0\\n  1  2  1  0\\n  2  3  1  0\\n  3  4  1  0\\n  4  5  1  0\\n  5  6  1  0\\n  6  7  2  0\\n  6  8  1  0\\n  8  9  1  0\\n  1 10  1  0\\n  1 11  1  0\\n  1 12  1  0\\n  2 13  1  0\\n  2 14  1  0\\n  3 15  1  0\\n  3 16  1  0\\n  4 17  1  0\\n  4 18  1  0\\n  5 19  1  0\\n  5 20  1  0\\n  9 21  1  0\\n  9 22  1  0\\n  9 23  1  0\\nM  END\\n\",\"sdf\");\n",
       "\tviewer_1662690376543699.setStyle({\"stick\": {}});\n",
       "\tviewer_1662690376543699.setBackgroundColor(\"0xeeeeee\");\n",
       "\tviewer_1662690376543699.zoomTo();\n",
       "viewer_1662690376543699.render();\n",
       "});\n",
       "</script>"
      ]
     },
     "metadata": {},
     "output_type": "display_data"
    },
    {
     "data": {
      "image/png": "[encoded data removed]",
      "text/html": [],
      "text/plain": [
       "<rdkit.Chem.rdchem.Mol at 0x7f78b337ea40>"
      ]
     },
     "execution_count": 8,
     "metadata": {},
     "output_type": "execute_result"
    }
   ],
   "source": [
    "mols = timemachine.datasets.fetch_freesolv()\n",
    "mols[0]"
   ]
  },
  {
   "cell_type": "code",
   "execution_count": null,
   "id": "ece27263-8c11-48da-aa31-ffabd0879af5",
   "metadata": {},
   "outputs": [],
   "source": []
  }
 ],
 "metadata": {
  "kernelspec": {
   "display_name": "Python3 - python3-timemachine",
   "language": "python",
   "name": "ipython_python3-timemachine"
  },
  "language_info": {
   "codemirror_mode": {
    "name": "ipython",
    "version": 3
   },
   "file_extension": ".py",
   "mimetype": "text/x-python",
   "name": "python",
   "nbconvert_exporter": "python",
   "pygments_lexer": "ipython3",
   "version": "3.10.6"
  }
 },
 "nbformat": 4,
 "nbformat_minor": 5
}
